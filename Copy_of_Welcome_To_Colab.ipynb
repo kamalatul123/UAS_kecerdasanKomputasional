{
  "cells": [
    {
      "cell_type": "markdown",
      "metadata": {
        "id": "view-in-github",
        "colab_type": "text"
      },
      "source": [
        "<a href=\"https://colab.research.google.com/github/kamalatul123/UAS_kecerdasanKomputasional/blob/main/Copy_of_Welcome_To_Colab.ipynb\" target=\"_parent\"><img src=\"https://colab.research.google.com/assets/colab-badge.svg\" alt=\"Open In Colab\"/></a>"
      ]
    },
    {
      "cell_type": "code",
      "source": [
        "import numpy as np\n",
        "from tensorflow.keras.preprocessing.text import Tokenizer\n",
        "from tensorflow.keras.preprocessing.sequence import pad_sequences\n",
        "from tensorflow.keras.models import Sequential\n",
        "from tensorflow.keras.layers import Embedding, Conv1D, GlobalMaxPooling1D, Dense, Dropout\n",
        "from sklearn.model_selection import train_test_split\n",
        "from sklearn.preprocessing import LabelEncoder"
      ],
      "metadata": {
        "id": "K2nmZ4S7HAOM"
      },
      "execution_count": null,
      "outputs": []
    },
    {
      "cell_type": "code",
      "source": [
        "# Data contoh\n",
        "texts = [\n",
        "    \"Saya suka belajar pemrograman\",\n",
        "    \"Pemrograman itu menyenangkan\",\n",
        "    \"Saya tidak suka makan sayur\",\n",
        "    \"Hujan membuat suasana menjadi dingin\",\n",
        "    \"Makanan favorit saya adalah pizza\",\n",
        "    \"Berolahraga sangat baik untuk kesehatan\",\n",
        "    \"Membaca buku meningkatkan pengetahuan\",\n",
        "    \"Bermain musik membuat saya rileks\",\n",
        "    \"Saya tidak suka menunggu\",\n",
        "    \"Tidur cukup penting untuk kesehatan\"\n",
        "]\n",
        "labels = [\n",
        "    \"positif\",\n",
        "    \"positif\",\n",
        "    \"negatif\",\n",
        "    \"netral\",\n",
        "    \"positif\",\n",
        "    \"positif\",\n",
        "    \"positif\",\n",
        "    \"positif\",\n",
        "    \"negatif\",\n",
        "    \"positif\"\n",
        "]"
      ],
      "metadata": {
        "id": "UcfRqBTEHJyb"
      },
      "execution_count": null,
      "outputs": []
    },
    {
      "cell_type": "code",
      "source": [
        "# Tokenisasi dan padding\n",
        "max_vocab_size = 10000\n",
        "max_seq_length = 100\n",
        "\n",
        "tokenizer = Tokenizer(num_words=max_vocab_size)\n",
        "tokenizer.fit_on_texts(texts)\n",
        "sequences = tokenizer.texts_to_sequences(texts)\n",
        "word_index = tokenizer.word_index\n",
        "data = pad_sequences(sequences, maxlen=max_seq_length)"
      ],
      "metadata": {
        "id": "ek-qzq6NHQFl"
      },
      "execution_count": null,
      "outputs": []
    },
    {
      "cell_type": "code",
      "source": [
        "# Encoding label\n",
        "encoder = LabelEncoder()\n",
        "encoded_labels = encoder.fit_transform(labels)\n",
        "num_classes = np.max(encoded_labels) + 1"
      ],
      "metadata": {
        "id": "85T5Lx9IHVah"
      },
      "execution_count": null,
      "outputs": []
    },
    {
      "cell_type": "code",
      "source": [
        "# Split data menjadi training dan testing\n",
        "X_train, X_test, y_train, y_test = train_test_split(data, encoded_labels, test_size=0.2, random_state=42)"
      ],
      "metadata": {
        "id": "lx0WkPDvHaRj"
      },
      "execution_count": null,
      "outputs": []
    },
    {
      "cell_type": "code",
      "source": [
        "# Membuat model CNN\n",
        "embedding_dim = 50\n",
        "\n",
        "model = Sequential()\n",
        "model.add(Embedding(input_dim=max_vocab_size, output_dim=embedding_dim, input_length=max_seq_length))\n",
        "model.add(Conv1D(128, 5, activation='relu'))\n",
        "model.add(GlobalMaxPooling1D())\n",
        "model.add(Dense(10, activation='relu'))\n",
        "model.add(Dropout(0.5))\n",
        "model.add(Dense(num_classes, activation='softmax'))\n",
        "\n",
        "model.compile(optimizer='adam', loss='sparse_categorical_crossentropy', metrics=['accuracy'])"
      ],
      "metadata": {
        "id": "l6vdt6SbHg59"
      },
      "execution_count": null,
      "outputs": []
    },
    {
      "cell_type": "code",
      "source": [
        "# Melatih model\n",
        "model.fit(X_train, y_train, epochs=10, batch_size=32, validation_data=(X_test, y_test))"
      ],
      "metadata": {
        "id": "UZEKZq92Hkza",
        "outputId": "b3557161-d284-424a-b677-d45f56027bd4",
        "colab": {
          "base_uri": "https://localhost:8080/"
        }
      },
      "execution_count": null,
      "outputs": [
        {
          "output_type": "stream",
          "name": "stdout",
          "text": [
            "Epoch 1/10\n",
            "1/1 [==============================] - 1s 1s/step - loss: 1.0928 - accuracy: 0.5000 - val_loss: 1.1010 - val_accuracy: 0.5000\n",
            "Epoch 2/10\n",
            "1/1 [==============================] - 0s 46ms/step - loss: 1.0720 - accuracy: 0.6250 - val_loss: 1.0987 - val_accuracy: 0.5000\n",
            "Epoch 3/10\n",
            "1/1 [==============================] - 0s 47ms/step - loss: 0.9992 - accuracy: 0.7500 - val_loss: 1.0994 - val_accuracy: 0.5000\n",
            "Epoch 4/10\n",
            "1/1 [==============================] - 0s 44ms/step - loss: 0.9966 - accuracy: 0.7500 - val_loss: 1.0989 - val_accuracy: 0.5000\n",
            "Epoch 5/10\n",
            "1/1 [==============================] - 0s 73ms/step - loss: 1.0708 - accuracy: 0.7500 - val_loss: 1.0928 - val_accuracy: 0.5000\n",
            "Epoch 6/10\n",
            "1/1 [==============================] - 0s 61ms/step - loss: 0.9849 - accuracy: 0.5000 - val_loss: 1.0848 - val_accuracy: 0.5000\n",
            "Epoch 7/10\n",
            "1/1 [==============================] - 0s 70ms/step - loss: 0.9293 - accuracy: 0.7500 - val_loss: 1.0759 - val_accuracy: 0.5000\n",
            "Epoch 8/10\n",
            "1/1 [==============================] - 0s 68ms/step - loss: 0.8414 - accuracy: 0.8750 - val_loss: 1.0667 - val_accuracy: 0.5000\n",
            "Epoch 9/10\n",
            "1/1 [==============================] - 0s 70ms/step - loss: 0.8561 - accuracy: 0.7500 - val_loss: 1.0546 - val_accuracy: 0.5000\n",
            "Epoch 10/10\n",
            "1/1 [==============================] - 0s 58ms/step - loss: 0.8925 - accuracy: 0.7500 - val_loss: 1.0445 - val_accuracy: 0.5000\n"
          ]
        },
        {
          "output_type": "execute_result",
          "data": {
            "text/plain": [
              "<keras.src.callbacks.History at 0x7cbb6d2d20b0>"
            ]
          },
          "metadata": {},
          "execution_count": 7
        }
      ]
    },
    {
      "cell_type": "code",
      "source": [
        "# Evaluasi model\n",
        "loss, accuracy = model.evaluate(X_test, y_test)\n",
        "print(f\"Loss: {loss}\")\n",
        "print(f\"Accuracy: {accuracy}\")"
      ],
      "metadata": {
        "id": "GK15YAMTHqHy",
        "outputId": "63b04592-5a0c-4501-c21e-d6a3cebb2b94",
        "colab": {
          "base_uri": "https://localhost:8080/"
        }
      },
      "execution_count": null,
      "outputs": [
        {
          "output_type": "stream",
          "name": "stdout",
          "text": [
            "1/1 [==============================] - 0s 28ms/step - loss: 1.0445 - accuracy: 0.5000\n",
            "Loss: 1.0445337295532227\n",
            "Accuracy: 0.5\n"
          ]
        }
      ]
    }
  ],
  "metadata": {
    "colab": {
      "toc_visible": true,
      "provenance": [],
      "include_colab_link": true
    },
    "kernelspec": {
      "display_name": "Python 3",
      "name": "python3"
    }
  },
  "nbformat": 4,
  "nbformat_minor": 0
}